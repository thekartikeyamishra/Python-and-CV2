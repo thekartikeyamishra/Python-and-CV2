{
 "cells": [
  {
   "cell_type": "code",
   "execution_count": 1,
   "id": "baf164c4",
   "metadata": {},
   "outputs": [],
   "source": [
    "import cv2"
   ]
  },
  {
   "cell_type": "code",
   "execution_count": 2,
   "id": "935e4bbe",
   "metadata": {},
   "outputs": [],
   "source": [
    "image = cv2.imread(\"Pic.png\") # I have already uploaded \"Pic.png\" in my jupyter notebook"
   ]
  },
  {
   "cell_type": "code",
   "execution_count": 3,
   "id": "9be78f90",
   "metadata": {},
   "outputs": [
    {
     "name": "stdout",
     "output_type": "stream",
     "text": [
      "<class 'numpy.ndarray'>\n"
     ]
    }
   ],
   "source": [
    "print (type(image)) # This will give the type of the image (dimensions)"
   ]
  },
  {
   "cell_type": "code",
   "execution_count": 4,
   "id": "74ff0bcc",
   "metadata": {},
   "outputs": [
    {
     "name": "stdout",
     "output_type": "stream",
     "text": [
      "3\n"
     ]
    }
   ],
   "source": [
    "print(image.ndim) # This will print the dimension of the image "
   ]
  },
  {
   "cell_type": "code",
   "execution_count": 5,
   "id": "ca5665af",
   "metadata": {},
   "outputs": [],
   "source": [
    "# Our image is too large . So, Let's resize it."
   ]
  },
  {
   "cell_type": "code",
   "execution_count": 12,
   "id": "e19196ab",
   "metadata": {},
   "outputs": [],
   "source": [
    "resized_img = cv2.resize(image,(int(image.shape[1]/2), int (image.shape[0]/2))) \n",
    "#int(image.shape[1]/2) to change width, int (image.shape[0]/2) to change the length ))"
   ]
  },
  {
   "cell_type": "code",
   "execution_count": 15,
   "id": "0141a9ce",
   "metadata": {},
   "outputs": [],
   "source": [
    "cv2.imwrite(\"Pic.png\",resized_img)\n",
    "cv2.imshow(\"Pic.png\", resized_img)\n",
    "cv2.waitKey(0)\n",
    "cv2.destroyAllWindows()"
   ]
  },
  {
   "cell_type": "code",
   "execution_count": null,
   "id": "9daed8a6",
   "metadata": {},
   "outputs": [],
   "source": []
  }
 ],
 "metadata": {
  "kernelspec": {
   "display_name": "Python 3 (ipykernel)",
   "language": "python",
   "name": "python3"
  },
  "language_info": {
   "codemirror_mode": {
    "name": "ipython",
    "version": 3
   },
   "file_extension": ".py",
   "mimetype": "text/x-python",
   "name": "python",
   "nbconvert_exporter": "python",
   "pygments_lexer": "ipython3",
   "version": "3.10.2"
  }
 },
 "nbformat": 4,
 "nbformat_minor": 5
}
